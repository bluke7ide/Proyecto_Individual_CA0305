{
 "cells": [
  {
   "cell_type": "markdown",
   "id": "45d566e0-21a0-4b20-829d-2d8827464687",
   "metadata": {},
   "source": [
    "# Prueba del módulo Simulaciones()"
   ]
  },
  {
   "cell_type": "code",
   "execution_count": 1,
   "id": "b36f0127-d429-4d5b-9004-37ccbc1428a2",
   "metadata": {},
   "outputs": [],
   "source": [
    "from Simulaciones import Simulaciones as sim"
   ]
  },
  {
   "cell_type": "code",
   "execution_count": 2,
   "id": "ea27a2e3-bae0-434a-af95-ba4bce957459",
   "metadata": {},
   "outputs": [],
   "source": [
    "fisico = sim(100, 75, 32)"
   ]
  },
  {
   "cell_type": "markdown",
   "id": "e22a5e08-185a-4d12-81e9-a270c83ec0f5",
   "metadata": {},
   "source": [
    "## Recordar que la probabilidad de marcar es 24/75"
   ]
  },
  {
   "cell_type": "code",
   "execution_count": 36,
   "id": "c3ded517-e651-419d-9d0f-404841d0ee17",
   "metadata": {},
   "outputs": [
    {
     "data": {
      "text/plain": [
       "'La media simulada de que los tableros marquen es 10.69'"
      ]
     },
     "execution_count": 36,
     "metadata": {},
     "output_type": "execute_result"
    }
   ],
   "source": [
    "fisico.mean_salidos()"
   ]
  },
  {
   "cell_type": "code",
   "execution_count": 4,
   "id": "093eec59-0344-4572-8bbd-284974e35a5a",
   "metadata": {},
   "outputs": [
    {
     "data": {
      "text/plain": [
       "'La media simulada de que un tablero gane es 19.33'"
      ]
     },
     "execution_count": 4,
     "metadata": {},
     "output_type": "execute_result"
    }
   ],
   "source": [
    "fisico.mean_normal()"
   ]
  },
  {
   "cell_type": "code",
   "execution_count": 5,
   "id": "99e984a2-bf7e-4050-98d1-8e013b07623a",
   "metadata": {},
   "outputs": [
    {
     "data": {
      "text/plain": [
       "'La prob simulada de que ganen dos o más tableros es 0.08'"
      ]
     },
     "execution_count": 5,
     "metadata": {},
     "output_type": "execute_result"
    }
   ],
   "source": [
    "fisico.prob_mas_1()"
   ]
  },
  {
   "cell_type": "markdown",
   "id": "583de751-c550-47b2-93b1-355d9ddc5647",
   "metadata": {},
   "source": [
    "## Como las probabilidades son independientes, entonces ocurren estos dos"
   ]
  },
  {
   "cell_type": "code",
   "execution_count": 43,
   "id": "a4ce6cfe-48d9-4af5-b67f-29a9c54d29bf",
   "metadata": {},
   "outputs": [
    {
     "data": {
      "text/html": [
       "<div>\n",
       "<style scoped>\n",
       "    .dataframe tbody tr th:only-of-type {\n",
       "        vertical-align: middle;\n",
       "    }\n",
       "\n",
       "    .dataframe tbody tr th {\n",
       "        vertical-align: top;\n",
       "    }\n",
       "\n",
       "    .dataframe thead th {\n",
       "        text-align: right;\n",
       "    }\n",
       "</style>\n",
       "<table border=\"1\" class=\"dataframe\">\n",
       "  <thead>\n",
       "    <tr style=\"text-align: right;\">\n",
       "      <th></th>\n",
       "      <th>bolita</th>\n",
       "      <th>prob</th>\n",
       "    </tr>\n",
       "  </thead>\n",
       "  <tbody>\n",
       "    <tr>\n",
       "      <th>0</th>\n",
       "      <td>1</td>\n",
       "      <td>10.76</td>\n",
       "    </tr>\n",
       "    <tr>\n",
       "      <th>1</th>\n",
       "      <td>2</td>\n",
       "      <td>9.85</td>\n",
       "    </tr>\n",
       "    <tr>\n",
       "      <th>2</th>\n",
       "      <td>3</td>\n",
       "      <td>10.28</td>\n",
       "    </tr>\n",
       "    <tr>\n",
       "      <th>3</th>\n",
       "      <td>4</td>\n",
       "      <td>10.61</td>\n",
       "    </tr>\n",
       "    <tr>\n",
       "      <th>4</th>\n",
       "      <td>5</td>\n",
       "      <td>10.17</td>\n",
       "    </tr>\n",
       "    <tr>\n",
       "      <th>...</th>\n",
       "      <td>...</td>\n",
       "      <td>...</td>\n",
       "    </tr>\n",
       "    <tr>\n",
       "      <th>70</th>\n",
       "      <td>71</td>\n",
       "      <td>10.28</td>\n",
       "    </tr>\n",
       "    <tr>\n",
       "      <th>71</th>\n",
       "      <td>72</td>\n",
       "      <td>10.24</td>\n",
       "    </tr>\n",
       "    <tr>\n",
       "      <th>72</th>\n",
       "      <td>73</td>\n",
       "      <td>10.90</td>\n",
       "    </tr>\n",
       "    <tr>\n",
       "      <th>73</th>\n",
       "      <td>74</td>\n",
       "      <td>10.61</td>\n",
       "    </tr>\n",
       "    <tr>\n",
       "      <th>74</th>\n",
       "      <td>75</td>\n",
       "      <td>10.06</td>\n",
       "    </tr>\n",
       "  </tbody>\n",
       "</table>\n",
       "<p>75 rows × 2 columns</p>\n",
       "</div>"
      ],
      "text/plain": [
       "    bolita   prob\n",
       "0        1  10.76\n",
       "1        2   9.85\n",
       "2        3  10.28\n",
       "3        4  10.61\n",
       "4        5  10.17\n",
       "..     ...    ...\n",
       "70      71  10.28\n",
       "71      72  10.24\n",
       "72      73  10.90\n",
       "73      74  10.61\n",
       "74      75  10.06\n",
       "\n",
       "[75 rows x 2 columns]"
      ]
     },
     "execution_count": 43,
     "metadata": {},
     "output_type": "execute_result"
    }
   ],
   "source": [
    "import pandas\n",
    "cond = pandas.DataFrame({\"bolita\": list(range(1, 76)), 'prob': fisico.mean_bolita()})\n",
    "# Se asemeja a 10.4/32 = 24/75\n",
    "cond"
   ]
  },
  {
   "cell_type": "code",
   "execution_count": 44,
   "id": "5582055b-6a2a-4131-87f6-2b101d6d93d5",
   "metadata": {},
   "outputs": [
    {
     "data": {
      "text/plain": [
       "10.24"
      ]
     },
     "execution_count": 44,
     "metadata": {},
     "output_type": "execute_result"
    }
   ],
   "source": [
    "cond[\"prob\"].mean()"
   ]
  },
  {
   "cell_type": "code",
   "execution_count": 18,
   "id": "56f39781-c640-4cab-a3dc-efe7eec34315",
   "metadata": {},
   "outputs": [],
   "source": [
    "prueba = pandas.DataFrame(fisico.prob_cond()) # Se asemeja a 32/100 = 24/75"
   ]
  },
  {
   "cell_type": "code",
   "execution_count": 45,
   "id": "1c88d7b6-a08e-4a9f-b455-838a5d20bd29",
   "metadata": {},
   "outputs": [
    {
     "data": {
      "text/plain": [
       "0.3191911201177738"
      ]
     },
     "execution_count": 45,
     "metadata": {},
     "output_type": "execute_result"
    }
   ],
   "source": [
    "prueba.mean().mean()"
   ]
  },
  {
   "cell_type": "markdown",
   "id": "616bc6ac-5be7-432a-8f97-aee97e8dd370",
   "metadata": {},
   "source": [
    "## Comparaciones con mean_normal()"
   ]
  },
  {
   "cell_type": "code",
   "execution_count": 47,
   "id": "043b3c3a-f3ba-4dce-963a-eeac3a3f43d3",
   "metadata": {},
   "outputs": [
    {
     "data": {
      "text/plain": [
       "'La media simulada de que un tablero gane es 22.06'"
      ]
     },
     "execution_count": 47,
     "metadata": {},
     "output_type": "execute_result"
    }
   ],
   "source": [
    "fisico.mean_especifico([\"Horizontal\", \"Vertical\"])"
   ]
  },
  {
   "cell_type": "code",
   "execution_count": 48,
   "id": "05777cfa-5b97-4ac5-b7c3-3832220faa0a",
   "metadata": {},
   "outputs": [
    {
     "data": {
      "text/plain": [
       "'La media simulada de que un tablero gane es 65.82'"
      ]
     },
     "execution_count": 48,
     "metadata": {},
     "output_type": "execute_result"
    }
   ],
   "source": [
    "fisico.mean_especifico([\"Full\"])"
   ]
  },
  {
   "cell_type": "code",
   "execution_count": 49,
   "id": "c9e13a06-ec1c-41f9-8637-c7bd83bc8d1b",
   "metadata": {},
   "outputs": [
    {
     "data": {
      "text/plain": [
       "'La media simulada de que un tablero gane es 56.82'"
      ]
     },
     "execution_count": 49,
     "metadata": {},
     "output_type": "execute_result"
    }
   ],
   "source": [
    "fisico.mean_especifico([\"H\"])"
   ]
  },
  {
   "cell_type": "code",
   "execution_count": 50,
   "id": "4cc30bfd-b6e9-4f6e-8956-f74ca36b7206",
   "metadata": {},
   "outputs": [
    {
     "data": {
      "text/plain": [
       "'La media simulada de que un tablero gane es 56.0'"
      ]
     },
     "execution_count": 50,
     "metadata": {},
     "output_type": "execute_result"
    }
   ],
   "source": [
    "fisico.mean_especifico([\"I\"])"
   ]
  },
  {
   "cell_type": "code",
   "execution_count": 51,
   "id": "a71d91d5-b99f-4a7d-ae4e-af3bfb0e39e4",
   "metadata": {},
   "outputs": [
    {
     "data": {
      "text/plain": [
       "'La media simulada de que un tablero gane es 53.34'"
      ]
     },
     "execution_count": 51,
     "metadata": {},
     "output_type": "execute_result"
    }
   ],
   "source": [
    "fisico.mean_especifico([\"H\", \"I\"])"
   ]
  },
  {
   "cell_type": "code",
   "execution_count": 52,
   "id": "fa6c97fc-688b-470b-9562-0e559d9dc967",
   "metadata": {},
   "outputs": [
    {
     "data": {
      "text/plain": [
       "'La media simulada de que un tablero gane es 55.72'"
      ]
     },
     "execution_count": 52,
     "metadata": {},
     "output_type": "execute_result"
    }
   ],
   "source": [
    "fisico.mean_especifico([\"Z\"])"
   ]
  },
  {
   "cell_type": "code",
   "execution_count": 53,
   "id": "2765bee8-b796-4860-a289-b9bdd8bedefe",
   "metadata": {},
   "outputs": [
    {
     "data": {
      "text/plain": [
       "'La media simulada de que un tablero gane es 57.4'"
      ]
     },
     "execution_count": 53,
     "metadata": {},
     "output_type": "execute_result"
    }
   ],
   "source": [
    "fisico.mean_especifico([\"N\"])"
   ]
  },
  {
   "cell_type": "code",
   "execution_count": 54,
   "id": "e3b8f036-11ad-4c69-9ff9-cd1f0ac70ee1",
   "metadata": {},
   "outputs": [
    {
     "data": {
      "text/plain": [
       "'La media simulada de que un tablero gane es 53.94'"
      ]
     },
     "execution_count": 54,
     "metadata": {},
     "output_type": "execute_result"
    }
   ],
   "source": [
    "fisico.mean_especifico([\"Z\", \"N\"])"
   ]
  },
  {
   "cell_type": "code",
   "execution_count": 55,
   "id": "2a792474-22e4-465a-b818-2c80048acb21",
   "metadata": {},
   "outputs": [
    {
     "data": {
      "text/plain": [
       "'La media simulada de que un tablero gane es 61.15'"
      ]
     },
     "execution_count": 55,
     "metadata": {},
     "output_type": "execute_result"
    }
   ],
   "source": [
    "fisico.mean_especifico([\"O\"])"
   ]
  },
  {
   "cell_type": "code",
   "execution_count": 56,
   "id": "9d7d54c3-e32c-4d3d-96d9-5adfbda57e64",
   "metadata": {},
   "outputs": [
    {
     "data": {
      "text/plain": [
       "'La media simulada de que un tablero gane es 48.38'"
      ]
     },
     "execution_count": 56,
     "metadata": {},
     "output_type": "execute_result"
    }
   ],
   "source": [
    "fisico.mean_especifico([\"X\"])"
   ]
  },
  {
   "cell_type": "code",
   "execution_count": 57,
   "id": "82aaa9bf-f9eb-4d31-b68c-8dd52edc2def",
   "metadata": {},
   "outputs": [
    {
     "data": {
      "text/plain": [
       "'La media simulada de que un tablero gane es 46.47'"
      ]
     },
     "execution_count": 57,
     "metadata": {},
     "output_type": "execute_result"
    }
   ],
   "source": [
    "fisico.mean_especifico([\"O\", \"X\"])"
   ]
  },
  {
   "cell_type": "code",
   "execution_count": 58,
   "id": "d27dbc96-b651-454b-9ea7-26e4cd81d40b",
   "metadata": {},
   "outputs": [
    {
     "data": {
      "text/plain": [
       "'La media simulada de que un tablero gane es 48.84'"
      ]
     },
     "execution_count": 58,
     "metadata": {},
     "output_type": "execute_result"
    }
   ],
   "source": [
    "fisico.mean_especifico([\"T\"])"
   ]
  }
 ],
 "metadata": {
  "kernelspec": {
   "display_name": "Python 3 (ipykernel)",
   "language": "python",
   "name": "python3"
  },
  "language_info": {
   "codemirror_mode": {
    "name": "ipython",
    "version": 3
   },
   "file_extension": ".py",
   "mimetype": "text/x-python",
   "name": "python",
   "nbconvert_exporter": "python",
   "pygments_lexer": "ipython3",
   "version": "3.11.7"
  }
 },
 "nbformat": 4,
 "nbformat_minor": 5
}
